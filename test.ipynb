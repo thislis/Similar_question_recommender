{
 "cells": [
  {
   "cell_type": "code",
   "execution_count": null,
   "metadata": {},
   "outputs": [],
   "source": [
    "# TODO : 테스트용 ipynb인데 테스트는 다른 더 좋은 테스트 작성 방법이 있어요."
   ]
  },
  {
   "cell_type": "code",
   "execution_count": 7,
   "metadata": {},
   "outputs": [],
   "source": [
    "import requests\n",
    "from pprint import pprint"
   ]
  },
  {
   "cell_type": "code",
   "execution_count": 5,
   "metadata": {},
   "outputs": [],
   "source": [
    "base_url = 'http://localhost:8000'"
   ]
  },
  {
   "cell_type": "code",
   "execution_count": 9,
   "metadata": {},
   "outputs": [],
   "source": [
    "# POST /api/set/question\n",
    "url = base_url + '/api/set/question'\n",
    "data = {\n",
    "    'question_type': 'test1',\n",
    "    'question': '멜룬멜룬?',\n",
    "    'question_answer': '멜룬'\n",
    "}\n",
    "response = requests.post(url, json=data)"
   ]
  },
  {
   "cell_type": "code",
   "execution_count": 14,
   "metadata": {},
   "outputs": [
    {
     "name": "stdout",
     "output_type": "stream",
     "text": [
      "POST /api/set/question 결과 : \n",
      "code : 200\n",
      "None\n"
     ]
    }
   ],
   "source": [
    "print(\"POST /api/set/question 결과 : \")\n",
    "print(\"code :\", response.status_code)\n",
    "pprint(response.json())"
   ]
  },
  {
   "cell_type": "code",
   "execution_count": 88,
   "metadata": {},
   "outputs": [],
   "source": [
    "# GET /api/get/question\n",
    "url = base_url + '/api/get/question/test1'\n",
    "response = requests.get(url)"
   ]
  },
  {
   "cell_type": "code",
   "execution_count": 89,
   "metadata": {},
   "outputs": [
    {
     "name": "stdout",
     "output_type": "stream",
     "text": [
      "POST /api/set/question 결과 : \n",
      "code : 200\n",
      "[{'question': '멜룬멜룬?', 'question_answer': '멜룬', 'question_type': 'test1'}]\n"
     ]
    }
   ],
   "source": [
    "print(\"POST /api/set/question 결과 : \")\n",
    "print(\"code :\", response.status_code)\n",
    "pprint(response.json())"
   ]
  },
  {
   "cell_type": "code",
   "execution_count": 120,
   "metadata": {},
   "outputs": [],
   "source": [
    "# GET /api/get/question 404\n",
    "url = base_url + '/api/get/question/test2'\n",
    "response = requests.get(url)"
   ]
  },
  {
   "cell_type": "code",
   "execution_count": 121,
   "metadata": {},
   "outputs": [
    {
     "name": "stdout",
     "output_type": "stream",
     "text": [
      "POST /api/set/question 결과 : \n",
      "code : 404\n",
      "{'detail': '이건 없는데;;'}\n"
     ]
    }
   ],
   "source": [
    "print(\"POST /api/set/question 결과 : \")\n",
    "print(\"code :\", response.status_code)\n",
    "pprint(response.json())"
   ]
  }
 ],
 "metadata": {
  "kernelspec": {
   "display_name": "Python 3",
   "language": "python",
   "name": "python3"
  },
  "language_info": {
   "codemirror_mode": {
    "name": "ipython",
    "version": 3
   },
   "file_extension": ".py",
   "mimetype": "text/x-python",
   "name": "python",
   "nbconvert_exporter": "python",
   "pygments_lexer": "ipython3",
   "version": "3.11.6"
  }
 },
 "nbformat": 4,
 "nbformat_minor": 2
}
